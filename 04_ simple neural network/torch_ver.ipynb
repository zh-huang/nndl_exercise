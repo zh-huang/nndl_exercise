{
 "cells": [
  {
   "cell_type": "code",
   "execution_count": 2,
   "metadata": {},
   "outputs": [],
   "source": [
    "import os\n",
    "import numpy as np\n",
    "import torch\n",
    "from torch import nn, optim\n",
    "from torch.nn import functional as F\n",
    "from torchvision import datasets, transforms\n",
    "\n",
    "os.environ['TF_CPP_MIN_LOG_LEVEL'] = '2'  # or any {'0', '1', '2'}\n",
    "\n",
    "\n",
    "def mnist_dataset():\n",
    "    transform = transforms.Compose([transforms.ToTensor(), transforms.Normalize((0.5,), (0.5,))])\n",
    "    trainset = datasets.MNIST('./.pytorch/MNIST_data/', download=True, train=True, transform=transform)\n",
    "    trainloader = torch.utils.data.DataLoader(trainset, batch_size=64, shuffle=True)\n",
    "    testset = datasets.MNIST('./.pytorch/MNIST_data/', download=True, train=False, transform=transform)\n",
    "    testloader = torch.utils.data.DataLoader(testset, batch_size=64, shuffle=True)\n",
    "\n",
    "    return trainloader, testloader"
   ]
  },
  {
   "cell_type": "code",
   "execution_count": 48,
   "metadata": {},
   "outputs": [],
   "source": [
    "class torchModel(nn.Module):\n",
    "    def __init__ (self):\n",
    "        super(torchModel, self).__init__()\n",
    "        self.fc1 = nn.Linear(784, 98).to(torch.float32)\n",
    "        self.fc2 = nn.Linear(98, 10).to(torch.float32)\n",
    "    \n",
    "    def forward(self, x):\n",
    "        x = x.view(-1, 784).to(torch.float32)\n",
    "        x = F.relu(self.fc1(x))\n",
    "        x = self.fc2(x)\n",
    "        return x\n",
    "model = torchModel()\n",
    "optimizer = optim.Adam(model.parameters(), lr=0.003)"
   ]
  },
  {
   "cell_type": "code",
   "execution_count": 49,
   "metadata": {},
   "outputs": [],
   "source": [
    "def compute_loss(logits, labels):\n",
    "    return F.cross_entropy(logits, labels)\n",
    "\n",
    "def compute_accuracy(logits, labels):\n",
    "    return torch.mean((logits.argmax(dim=1) == labels).float())\n",
    "\n",
    "def train_one_step(model, optimizer, x, y):\n",
    "    model.train()\n",
    "    logits = model(x)\n",
    "    loss = compute_loss(logits, y)\n",
    "    optimizer.zero_grad()\n",
    "    loss.backward()\n",
    "    optimizer.step()\n",
    "    return loss\n",
    "\n",
    "def test(model, x, y):\n",
    "    model.eval()\n",
    "    with torch.no_grad():\n",
    "        logits = model(x)\n",
    "        loss = compute_loss(logits, y)\n",
    "        accuracy = compute_accuracy(logits, y)\n",
    "    return loss, accuracy"
   ]
  },
  {
   "cell_type": "code",
   "execution_count": 50,
   "metadata": {},
   "outputs": [
    {
     "name": "stdout",
     "output_type": "stream",
     "text": [
      "epoch 0, loss 0.38105282187461853\n",
      "epoch 1, loss 0.03815656155347824\n",
      "epoch 2, loss 0.05254775658249855\n",
      "epoch 3, loss 0.17444223165512085\n",
      "epoch 4, loss 0.4422112703323364\n",
      "epoch 5, loss 0.2748570740222931\n",
      "epoch 6, loss 0.05122112110257149\n",
      "epoch 7, loss 0.14479100704193115\n",
      "epoch 8, loss 0.10320556908845901\n",
      "epoch 9, loss 0.06474336981773376\n",
      "test, loss 0.09843818843364716, accuracy 0.9375\n"
     ]
    }
   ],
   "source": [
    "# train this model\n",
    "trainloader, testloader = mnist_dataset()\n",
    "for epoch in range(10):\n",
    "    for x, y in trainloader:\n",
    "        loss = train_one_step(model, optimizer, x.to(torch.float32), y.to(torch.float32))\n",
    "    print(f'epoch {epoch}, loss {loss}')\n",
    "    \n",
    "for x, y in testloader:\n",
    "    loss, accuracy = test(model, x.to(torch.float32), y.to(torch.float32))\n",
    "print(f'test, loss {loss}, accuracy {accuracy}')\n"
   ]
  },
  {
   "cell_type": "code",
   "execution_count": null,
   "metadata": {},
   "outputs": [],
   "source": [
    "# Save model\n",
    "torch.save(model.state_dict(), 'model.pth')\n",
    "# Load model\n",
    "model = torchModel()\n",
    "model.load_state_dict(torch.load('model.pth'))"
   ]
  }
 ],
 "metadata": {
  "kernelspec": {
   "display_name": "nndl_env",
   "language": "python",
   "name": "python3"
  },
  "language_info": {
   "codemirror_mode": {
    "name": "ipython",
    "version": 3
   },
   "file_extension": ".py",
   "mimetype": "text/x-python",
   "name": "python",
   "nbconvert_exporter": "python",
   "pygments_lexer": "ipython3",
   "version": "3.8.0"
  }
 },
 "nbformat": 4,
 "nbformat_minor": 2
}
