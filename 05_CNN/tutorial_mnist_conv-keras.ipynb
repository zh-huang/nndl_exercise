{
 "cells": [
  {
   "cell_type": "markdown",
   "metadata": {},
   "source": [
    "## 准备数据"
   ]
  },
  {
   "cell_type": "code",
   "execution_count": 1,
   "metadata": {},
   "outputs": [],
   "source": [
    "import os\n",
    "import tensorflow as tf\n",
    "from tensorflow import keras\n",
    "from tensorflow.keras import layers, optimizers, datasets\n",
    "from tensorflow.keras.layers import Dense, Dropout, Flatten\n",
    "from tensorflow.keras.layers import Conv2D, MaxPooling2D\n",
    "\n",
    "os.environ['TF_CPP_MIN_LOG_LEVEL'] = '2'  # or any {'0', '1', '2'}\n",
    "\n",
    "def mnist_dataset():\n",
    "    (x, y), (x_test, y_test) = datasets.mnist.load_data()\n",
    "    x = x.reshape(x.shape[0], 28, 28,1)\n",
    "    x_test = x_test.reshape(x_test.shape[0], 28, 28,1)\n",
    "    ds = tf.data.Dataset.from_tensor_slices((x, y))\n",
    "    ds = ds.map(prepare_mnist_features_and_labels)\n",
    "    ds = ds.take(20000).shuffle(20000).batch(100)\n",
    "    \n",
    "    test_ds = tf.data.Dataset.from_tensor_slices((x_test, y_test))\n",
    "    test_ds = test_ds.map(prepare_mnist_features_and_labels)\n",
    "    test_ds = test_ds.take(20000).shuffle(20000).batch(20000)\n",
    "    return ds, test_ds\n",
    "\n",
    "def prepare_mnist_features_and_labels(x, y):\n",
    "    x = tf.cast(x, tf.float32) / 255.0\n",
    "    y = tf.cast(y, tf.int64)\n",
    "    return x, y"
   ]
  },
  {
   "cell_type": "markdown",
   "metadata": {},
   "source": [
    "## 建立模型"
   ]
  },
  {
   "cell_type": "code",
   "execution_count": 2,
   "metadata": {},
   "outputs": [],
   "source": [
    "class myConvModel(keras.Model):\n",
    "    def __init__(self):\n",
    "        super(myConvModel, self).__init__()\n",
    "        self.l1_conv = Conv2D(32, (5, 5), activation='relu', padding='same')\n",
    "        self.l2_conv = Conv2D(64, (5, 5), activation='relu', padding='same')\n",
    "        self.pool = MaxPooling2D(pool_size=(2, 2), strides=2)\n",
    "        self.flat = Flatten()\n",
    "        self.dense1 = layers.Dense(100, activation='tanh')\n",
    "        self.dense2 = layers.Dense(10)\n",
    "    @tf.function\n",
    "    def call(self, x):\n",
    "        h1 = self.l1_conv(x)\n",
    "        h1_pool = self.pool(h1)\n",
    "        h2 = self.l2_conv(h1_pool)\n",
    "        h2_pool = self.pool(h2)\n",
    "        flat_h = self.flat(h2_pool)\n",
    "        dense1 = self.dense1(flat_h)\n",
    "        logits = self.dense2(dense1)\n",
    "        probs = tf.nn.softmax(logits, axis=-1)\n",
    "        return probs\n",
    "\n",
    "model = myConvModel()\n",
    "optimizer = optimizers.Adam()"
   ]
  },
  {
   "cell_type": "markdown",
   "metadata": {},
   "source": [
    "## 编译， fit以及evaluate"
   ]
  },
  {
   "cell_type": "code",
   "execution_count": 3,
   "metadata": {},
   "outputs": [
    {
     "name": "stdout",
     "output_type": "stream",
     "text": [
      "Epoch 1/5\n",
      "200/200 [==============================] - 11s 46ms/step - loss: 0.2864 - accuracy: 0.9110\n",
      "Epoch 2/5\n",
      "200/200 [==============================] - 10s 46ms/step - loss: 0.0680 - accuracy: 0.9797\n",
      "Epoch 3/5\n",
      "200/200 [==============================] - 5s 27ms/step - loss: 0.0418 - accuracy: 0.9874\n",
      "Epoch 4/5\n",
      "200/200 [==============================] - 6s 27ms/step - loss: 0.0283 - accuracy: 0.9915\n",
      "Epoch 5/5\n",
      "200/200 [==============================] - 5s 26ms/step - loss: 0.0162 - accuracy: 0.9958\n",
      "1/1 [==============================] - 1s 627ms/step - loss: 0.0371 - accuracy: 0.9874\n"
     ]
    },
    {
     "data": {
      "text/plain": [
       "[0.03707992658019066, 0.9873999953269958]"
      ]
     },
     "execution_count": 3,
     "metadata": {},
     "output_type": "execute_result"
    }
   ],
   "source": [
    "model.compile(optimizer=optimizer,\n",
    "              loss='sparse_categorical_crossentropy',\n",
    "              metrics=['accuracy'])\n",
    "train_ds, test_ds = mnist_dataset()\n",
    "model.fit(train_ds, epochs=5)\n",
    "model.evaluate(test_ds)"
   ]
  },
  {
   "cell_type": "code",
   "execution_count": null,
   "metadata": {},
   "outputs": [],
   "source": []
  }
 ],
 "metadata": {
  "kernelspec": {
   "display_name": "Python 3",
   "language": "python",
   "name": "python3"
  },
  "language_info": {
   "codemirror_mode": {
    "name": "ipython",
    "version": 3
   },
   "file_extension": ".py",
   "mimetype": "text/x-python",
   "name": "python",
   "nbconvert_exporter": "python",
   "pygments_lexer": "ipython3",
   "version": "3.8.0"
  }
 },
 "nbformat": 4,
 "nbformat_minor": 2
}
