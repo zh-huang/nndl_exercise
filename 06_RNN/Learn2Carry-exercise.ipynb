{
 "cells": [
  {
   "cell_type": "markdown",
   "metadata": {},
   "source": [
    "# 加法进位实验\n"
   ]
  },
  {
   "cell_type": "markdown",
   "metadata": {},
   "source": [
    "<img src=\"https://github.com/JerrikEph/jerrikeph.github.io/raw/master/Learn2Carry.png\" width=650>"
   ]
  },
  {
   "cell_type": "code",
   "execution_count": 1,
   "metadata": {
    "scrolled": true
   },
   "outputs": [],
   "source": [
    "import numpy as np\n",
    "import tensorflow as tf\n",
    "import collections\n",
    "from tensorflow import keras\n",
    "from tensorflow.keras import layers\n",
    "from tensorflow.keras import layers, optimizers, datasets\n",
    "import os,sys,tqdm"
   ]
  },
  {
   "cell_type": "markdown",
   "metadata": {},
   "source": [
    "## 数据生成\n",
    "我们随机在 `start->end`之间采样除整数对`(num1, num2)`，计算结果`num1+num2`作为监督信号。\n",
    "\n",
    "* 首先将数字转换成数字位列表 `convertNum2Digits`\n",
    "* 将数字位列表反向\n",
    "* 将数字位列表填充到同样的长度 `pad2len`\n"
   ]
  },
  {
   "cell_type": "code",
   "execution_count": 2,
   "metadata": {},
   "outputs": [],
   "source": [
    "def gen_data_batch(batch_size, start, end):\n",
    "    '''在(start, end)区间采样生成一个batch的整型的数据\n",
    "    Args :\n",
    "        batch_size: batch_size\n",
    "        start: 开始数值\n",
    "        end: 结束数值\n",
    "    '''\n",
    "    numbers_1 = np.random.randint(start, end, batch_size)\n",
    "    numbers_2 = np.random.randint(start, end, batch_size)\n",
    "    results = numbers_1 + numbers_2\n",
    "    return numbers_1, numbers_2, results\n",
    "\n",
    "def convertNum2Digits(Num):\n",
    "    '''将一个整数转换成一个数字位的列表,例如 133412 ==> [1, 3, 3, 4, 1, 2]\n",
    "    '''\n",
    "    strNum = str(Num)\n",
    "    chNums = list(strNum)\n",
    "    digitNums = [int(o) for o in strNum]\n",
    "    return digitNums\n",
    "\n",
    "def convertDigits2Num(Digits):\n",
    "    '''将数字位列表反向， 例如 [1, 3, 3, 4, 1, 2] ==> [2, 1, 4, 3, 3, 1]\n",
    "    '''\n",
    "    digitStrs = [str(o) for o in Digits]\n",
    "    numStr = ''.join(digitStrs)\n",
    "    Num = int(numStr)\n",
    "    return Num\n",
    "\n",
    "def pad2len(lst, length, pad=0):\n",
    "    '''将一个列表用`pad`填充到`length`的长度 例如 pad2len([1, 3, 2, 3], 6, pad=0) ==> [1, 3, 2, 3, 0, 0]\n",
    "    '''\n",
    "    lst+=[pad]*(length - len(lst))\n",
    "    return lst\n",
    "\n",
    "def results_converter(res_lst):\n",
    "    '''将预测好的数字位列表批量转换成为原始整数\n",
    "    Args:\n",
    "        res_lst: shape(b_sz, len(digits))\n",
    "    '''\n",
    "    res = [reversed(digits) for digits in res_lst]\n",
    "    return [convertDigits2Num(digits) for digits in res]\n",
    "\n",
    "def prepare_batch(Nums1, Nums2, results, maxlen):\n",
    "    '''准备一个batch的数据，将数值转换成反转的数位列表并且填充到固定长度\n",
    "    Args:\n",
    "        Nums1: shape(batch_size,)\n",
    "        Nums2: shape(batch_size,)\n",
    "        results: shape(batch_size,)\n",
    "        maxlen:  type(int)\n",
    "    Returns:\n",
    "        Nums1: shape(batch_size, maxlen)\n",
    "        Nums2: shape(batch_size, maxlen)\n",
    "        results: shape(batch_size, maxlen)\n",
    "    '''\n",
    "    Nums1 = [convertNum2Digits(o) for o in Nums1]\n",
    "    Nums2 = [convertNum2Digits(o) for o in Nums2]\n",
    "    results = [convertNum2Digits(o) for o in results]\n",
    "    \n",
    "    Nums1 = [list(reversed(o)) for o in Nums1]\n",
    "    Nums2 = [list(reversed(o)) for o in Nums2]\n",
    "    results = [list(reversed(o)) for o in results]\n",
    "    \n",
    "    Nums1 = [pad2len(o, maxlen) for o in Nums1]\n",
    "    Nums2 = [pad2len(o, maxlen) for o in Nums2]\n",
    "    results = [pad2len(o, maxlen) for o in results]\n",
    "    \n",
    "    return Nums1, Nums2, results"
   ]
  },
  {
   "cell_type": "markdown",
   "metadata": {},
   "source": [
    "# 建模过程， 按照图示完成建模"
   ]
  },
  {
   "cell_type": "code",
   "execution_count": 3,
   "metadata": {},
   "outputs": [],
   "source": [
    "class myRNNModel(keras.Model):\n",
    "    def __init__(self):\n",
    "        super(myRNNModel, self).__init__()\n",
    "        self.embed_layer = tf.keras.layers.Embedding(10, 32, \n",
    "                                                    batch_input_shape=[None, None])\n",
    "        \n",
    "        self.rnncell = tf.keras.layers.SimpleRNNCell(64)\n",
    "        self.rnn_layer = tf.keras.layers.RNN(self.rnncell, return_sequences=True)\n",
    "        self.dense = tf.keras.layers.Dense(10)\n",
    "        \n",
    "    @tf.function\n",
    "    def call(self, num1, num2):\n",
    "        num1_emb = self.embed_layer(num1)\n",
    "        num2_emb = self.embed_layer(num2)\n",
    "        input_emb = tf.concat([num1_emb, num2_emb], axis=-1)\n",
    "        rnn_out = self.rnn_layer(input_emb)\n",
    "        logits = self.dense(rnn_out)\n",
    "        return logits"
   ]
  },
  {
   "cell_type": "code",
   "execution_count": 4,
   "metadata": {},
   "outputs": [],
   "source": [
    "@tf.function\n",
    "def compute_loss(logits, labels):\n",
    "    losses = tf.nn.sparse_softmax_cross_entropy_with_logits(\n",
    "            logits=logits, labels=labels)\n",
    "    return tf.reduce_mean(losses)\n",
    "\n",
    "@tf.function\n",
    "def train_one_step(model, optimizer, x, y, label):\n",
    "    with tf.GradientTape() as tape:\n",
    "        logits = model(x, y)\n",
    "        loss = compute_loss(logits, label)\n",
    "\n",
    "    # compute gradient\n",
    "    grads = tape.gradient(loss, model.trainable_variables)\n",
    "    optimizer.apply_gradients(zip(grads, model.trainable_variables))\n",
    "    return loss\n",
    "\n",
    "def train(steps, model, optimizer):\n",
    "    loss = 0.0\n",
    "    accuracy = 0.0\n",
    "    for step in range(steps):\n",
    "        datas = gen_data_batch(batch_size=200, start=0, end=555555555)\n",
    "        Nums1, Nums2, results = prepare_batch(*datas, maxlen=11)\n",
    "        loss = train_one_step(model, optimizer, tf.constant(Nums1, dtype=tf.int32), \n",
    "                              tf.constant(Nums2, dtype=tf.int32),\n",
    "                              tf.constant(results, dtype=tf.int32))\n",
    "        if step%50 == 0:\n",
    "            print('step', step, ': loss', loss.numpy())\n",
    "\n",
    "    return loss\n",
    "\n",
    "def evaluate(model):\n",
    "    datas = gen_data_batch(batch_size=2000, start=555555555, end=999999999)\n",
    "    Nums1, Nums2, results = prepare_batch(*datas, maxlen=11)\n",
    "    logits = model(tf.constant(Nums1, dtype=tf.int32), tf.constant(Nums2, dtype=tf.int32))\n",
    "    logits = logits.numpy()\n",
    "    pred = np.argmax(logits, axis=-1)\n",
    "    res = results_converter(pred)\n",
    "    for o in list(zip(datas[2], res))[:20]:\n",
    "        print(o[0], o[1], o[0]==o[1])\n",
    "\n",
    "    print('accuracy is: %g' % np.mean([o[0]==o[1] for o in zip(datas[2], res)]))\n"
   ]
  },
  {
   "cell_type": "code",
   "execution_count": 5,
   "metadata": {},
   "outputs": [],
   "source": [
    "optimizer = optimizers.Adam(0.001)\n",
    "model = myRNNModel()"
   ]
  },
  {
   "cell_type": "code",
   "execution_count": 6,
   "metadata": {},
   "outputs": [
    {
     "name": "stdout",
     "output_type": "stream",
     "text": [
      "step 0 : loss 2.3024588\n",
      "step 50 : loss 1.9256514\n",
      "step 100 : loss 1.9050149\n",
      "step 150 : loss 1.8848413\n",
      "step 200 : loss 1.8828213\n",
      "step 250 : loss 1.900515\n",
      "step 300 : loss 1.8796132\n",
      "step 350 : loss 1.8861239\n",
      "step 400 : loss 1.89182\n",
      "step 450 : loss 1.8891153\n",
      "step 500 : loss 1.879965\n",
      "step 550 : loss 1.8842614\n",
      "step 600 : loss 1.8783662\n",
      "step 650 : loss 1.88714\n",
      "step 700 : loss 1.8769891\n",
      "step 750 : loss 1.8759815\n",
      "step 800 : loss 1.888643\n",
      "step 850 : loss 1.8685964\n",
      "step 900 : loss 1.8665166\n",
      "step 950 : loss 1.8405887\n",
      "step 1000 : loss 1.823514\n",
      "step 1050 : loss 1.7786102\n",
      "step 1100 : loss 1.751952\n",
      "step 1150 : loss 1.7222528\n",
      "step 1200 : loss 1.6920521\n",
      "step 1250 : loss 1.6299732\n",
      "step 1300 : loss 1.524622\n",
      "step 1350 : loss 1.349479\n",
      "step 1400 : loss 1.184525\n",
      "step 1450 : loss 1.03788\n",
      "step 1500 : loss 0.93186414\n",
      "step 1550 : loss 0.8104217\n",
      "step 1600 : loss 0.7276744\n",
      "step 1650 : loss 0.64807296\n",
      "step 1700 : loss 0.56753004\n",
      "step 1750 : loss 0.5022118\n",
      "step 1800 : loss 0.4396791\n",
      "step 1850 : loss 0.38060272\n",
      "step 1900 : loss 0.32714787\n",
      "step 1950 : loss 0.2864844\n",
      "step 2000 : loss 0.25095293\n",
      "step 2050 : loss 0.20762041\n",
      "step 2100 : loss 0.18107736\n",
      "step 2150 : loss 0.1443417\n",
      "step 2200 : loss 0.13032462\n",
      "step 2250 : loss 0.11229633\n",
      "step 2300 : loss 0.093226\n",
      "step 2350 : loss 0.08360033\n",
      "step 2400 : loss 0.07343048\n",
      "step 2450 : loss 0.06451208\n",
      "step 2500 : loss 0.05593301\n",
      "step 2550 : loss 0.05054065\n",
      "step 2600 : loss 0.044749208\n",
      "step 2650 : loss 0.039095383\n",
      "step 2700 : loss 0.036620736\n",
      "step 2750 : loss 0.032658894\n",
      "step 2800 : loss 0.030203205\n",
      "step 2850 : loss 0.027002374\n",
      "step 2900 : loss 0.025467113\n",
      "step 2950 : loss 0.02317625\n",
      "1915054243 1915054243 True\n",
      "1437374299 1437374299 True\n",
      "1720241177 1720241177 True\n",
      "1440148235 1440148235 True\n",
      "1191733147 1191733147 True\n",
      "1668015157 1668015157 True\n",
      "1766916675 1766916675 True\n",
      "1499177934 1499177934 True\n",
      "1583449260 1583449260 True\n",
      "1536816281 1536816281 True\n",
      "1563657921 1563657921 True\n",
      "1806163486 1806163486 True\n",
      "1791917528 1791917528 True\n",
      "1608918633 1608918633 True\n",
      "1604870082 1604870082 True\n",
      "1571920747 1571920747 True\n",
      "1305992766 1305992766 True\n",
      "1272748944 1272748944 True\n",
      "1550846653 1550846653 True\n",
      "1454741297 1454741297 True\n",
      "accuracy is: 1\n"
     ]
    }
   ],
   "source": [
    "train(3000, model, optimizer)\n",
    "evaluate(model)"
   ]
  },
  {
   "cell_type": "code",
   "execution_count": 11,
   "metadata": {
    "collapsed": true
   },
   "outputs": [],
   "source": []
  },
  {
   "cell_type": "code",
   "execution_count": null,
   "metadata": {},
   "outputs": [],
   "source": []
  },
  {
   "cell_type": "code",
   "execution_count": null,
   "metadata": {},
   "outputs": [],
   "source": []
  },
  {
   "cell_type": "code",
   "execution_count": null,
   "metadata": {},
   "outputs": [],
   "source": []
  },
  {
   "cell_type": "code",
   "execution_count": null,
   "metadata": {
    "collapsed": true
   },
   "outputs": [],
   "source": []
  }
 ],
 "metadata": {
  "kernelspec": {
   "display_name": "Python 3",
   "language": "python",
   "name": "python3"
  },
  "language_info": {
   "codemirror_mode": {
    "name": "ipython",
    "version": 3
   },
   "file_extension": ".py",
   "mimetype": "text/x-python",
   "name": "python",
   "nbconvert_exporter": "python",
   "pygments_lexer": "ipython3",
   "version": "3.8.0"
  }
 },
 "nbformat": 4,
 "nbformat_minor": 2
}
