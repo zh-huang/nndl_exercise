{
 "cells": [
  {
   "cell_type": "markdown",
   "metadata": {},
   "source": [
    "## 准备数据"
   ]
  },
  {
   "cell_type": "code",
   "execution_count": 2,
   "metadata": {},
   "outputs": [],
   "source": [
    "import os\n",
    "import numpy as np\n",
    "import tensorflow as tf\n",
    "from tensorflow import keras\n",
    "from tensorflow.keras import layers, optimizers, datasets\n",
    "\n",
    "os.environ['TF_CPP_MIN_LOG_LEVEL'] = '2'  # or any {'0', '1', '2'}\n",
    "\n",
    "def mnist_dataset():\n",
    "    (x, y), (x_test, y_test) = datasets.mnist.load_data()\n",
    "    #normalize\n",
    "    x = x/255.0\n",
    "    x_test = x_test/255.0\n",
    "    \n",
    "    return (x, y), (x_test, y_test)"
   ]
  },
  {
   "cell_type": "markdown",
   "metadata": {},
   "source": [
    "## 建立模型"
   ]
  },
  {
   "cell_type": "code",
   "execution_count": 11,
   "metadata": {},
   "outputs": [],
   "source": [
    "class myModel:\n",
    "    def __init__(self):\n",
    "        self.W1 = tf.Variable(tf.random.normal([784, 98]), trainable=True, dtype=tf.float32)\n",
    "        self.b1 = tf.Variable(tf.zeros([98]), trainable=True, dtype=tf.float32)\n",
    "        self.W2 = tf.Variable(tf.random.normal([98, 10]), trainable=True, dtype=tf.float32)\n",
    "        self.b2 = tf.Variable(tf.zeros([10]), trainable=True, dtype=tf.float32)\n",
    "        \n",
    "    def __call__(self, x):\n",
    "        x = tf.reshape(x, [-1, 784])\n",
    "        h1 = tf.nn.relu(tf.matmul(x, self.W1) + self.b1)\n",
    "        logits = tf.matmul(h1, self.W2) + self.b2\n",
    "        return logits\n",
    "        \n",
    "model = myModel()\n",
    "\n",
    "optimizer = optimizers.Adam()"
   ]
  },
  {
   "cell_type": "markdown",
   "metadata": {},
   "source": [
    "## 计算 loss"
   ]
  },
  {
   "cell_type": "code",
   "execution_count": 12,
   "metadata": {},
   "outputs": [],
   "source": [
    "@tf.function\n",
    "def compute_loss(logits, labels):\n",
    "    return tf.reduce_mean(\n",
    "        tf.nn.sparse_softmax_cross_entropy_with_logits(\n",
    "            logits=logits, labels=labels))\n",
    "\n",
    "@tf.function\n",
    "def compute_accuracy(logits, labels):\n",
    "    predictions = tf.argmax(logits, axis=1)\n",
    "    return tf.reduce_mean(tf.cast(tf.equal(predictions, labels), tf.float32))\n",
    "\n",
    "@tf.function\n",
    "def train_one_step(model, optimizer, x, y):\n",
    "    with tf.GradientTape() as tape:\n",
    "        logits = model(x)\n",
    "        loss = compute_loss(logits, y)\n",
    "\n",
    "    # compute gradient\n",
    "    trainable_vars = [model.W1, model.W2, model.b1, model.b2]\n",
    "    grads = tape.gradient(loss, trainable_vars)\n",
    "    for g, v in zip(grads, trainable_vars):\n",
    "        v.assign_sub(0.01*g)\n",
    "\n",
    "    accuracy = compute_accuracy(logits, y)\n",
    "\n",
    "    # loss and accuracy is scalar tensor\n",
    "    return loss, accuracy\n",
    "\n",
    "@tf.function\n",
    "def test(model, x, y):\n",
    "    logits = model(x)\n",
    "    loss = compute_loss(logits, y)\n",
    "    accuracy = compute_accuracy(logits, y)\n",
    "    return loss, accuracy"
   ]
  },
  {
   "cell_type": "markdown",
   "metadata": {},
   "source": [
    "## 实际训练"
   ]
  },
  {
   "cell_type": "code",
   "execution_count": 13,
   "metadata": {},
   "outputs": [
    {
     "name": "stdout",
     "output_type": "stream",
     "text": [
      "epoch 0 : loss 104.50446 ; accuracy 0.1439\n",
      "epoch 1 : loss 98.24834 ; accuracy 0.14193334\n",
      "epoch 2 : loss 92.858734 ; accuracy 0.13985\n",
      "epoch 3 : loss 88.19798 ; accuracy 0.1373\n",
      "epoch 4 : loss 84.123665 ; accuracy 0.13525\n",
      "epoch 5 : loss 80.5277 ; accuracy 0.13373333\n",
      "epoch 6 : loss 77.31547 ; accuracy 0.13303334\n",
      "epoch 7 : loss 74.41683 ; accuracy 0.13233334\n",
      "epoch 8 : loss 71.79073 ; accuracy 0.13213333\n",
      "epoch 9 : loss 69.40575 ; accuracy 0.13211666\n",
      "epoch 10 : loss 67.23567 ; accuracy 0.1327\n",
      "epoch 11 : loss 65.25285 ; accuracy 0.13361667\n",
      "epoch 12 : loss 63.44335 ; accuracy 0.13513333\n",
      "epoch 13 : loss 61.792263 ; accuracy 0.13661666\n",
      "epoch 14 : loss 60.27851 ; accuracy 0.13826667\n",
      "epoch 15 : loss 58.885124 ; accuracy 0.14011666\n",
      "epoch 16 : loss 57.594635 ; accuracy 0.14275\n",
      "epoch 17 : loss 56.39019 ; accuracy 0.1446\n",
      "epoch 18 : loss 55.258408 ; accuracy 0.1466\n",
      "epoch 19 : loss 54.188576 ; accuracy 0.14956667\n",
      "epoch 20 : loss 53.171707 ; accuracy 0.1521\n",
      "epoch 21 : loss 52.200672 ; accuracy 0.15506667\n",
      "epoch 22 : loss 51.26927 ; accuracy 0.15808333\n",
      "epoch 23 : loss 50.371834 ; accuracy 0.16108334\n",
      "epoch 24 : loss 49.504574 ; accuracy 0.16435\n",
      "epoch 25 : loss 48.664665 ; accuracy 0.1675\n",
      "epoch 26 : loss 47.849792 ; accuracy 0.17048334\n",
      "epoch 27 : loss 47.057617 ; accuracy 0.17305\n",
      "epoch 28 : loss 46.286636 ; accuracy 0.17636667\n",
      "epoch 29 : loss 45.5363 ; accuracy 0.17981666\n",
      "epoch 30 : loss 44.805714 ; accuracy 0.18323334\n",
      "epoch 31 : loss 44.093784 ; accuracy 0.18711667\n",
      "epoch 32 : loss 43.399662 ; accuracy 0.1909\n",
      "epoch 33 : loss 42.722885 ; accuracy 0.19448334\n",
      "epoch 34 : loss 42.062817 ; accuracy 0.198\n",
      "epoch 35 : loss 41.419003 ; accuracy 0.20211667\n",
      "epoch 36 : loss 40.790916 ; accuracy 0.20585\n",
      "epoch 37 : loss 40.1781 ; accuracy 0.20933333\n",
      "epoch 38 : loss 39.57997 ; accuracy 0.21298334\n",
      "epoch 39 : loss 38.996174 ; accuracy 0.2168\n",
      "epoch 40 : loss 38.426434 ; accuracy 0.22068334\n",
      "epoch 41 : loss 37.87062 ; accuracy 0.22451666\n",
      "epoch 42 : loss 37.32834 ; accuracy 0.22851667\n",
      "epoch 43 : loss 36.799175 ; accuracy 0.23211667\n",
      "epoch 44 : loss 36.282696 ; accuracy 0.23581667\n",
      "epoch 45 : loss 35.778526 ; accuracy 0.23971666\n",
      "epoch 46 : loss 35.286358 ; accuracy 0.24401666\n",
      "epoch 47 : loss 34.80567 ; accuracy 0.24748333\n",
      "epoch 48 : loss 34.33605 ; accuracy 0.25053334\n",
      "epoch 49 : loss 33.877098 ; accuracy 0.25391668\n",
      "test loss 32.85682 ; accuracy 0.2604\n"
     ]
    }
   ],
   "source": [
    "train_data, test_data = mnist_dataset()\n",
    "for epoch in range(50):\n",
    "    loss, accuracy = train_one_step(model, optimizer, \n",
    "                                    tf.constant(train_data[0], dtype=tf.float32), \n",
    "                                    tf.constant(train_data[1], dtype=tf.int64))\n",
    "    print('epoch', epoch, ': loss', loss.numpy(), '; accuracy', accuracy.numpy())\n",
    "loss, accuracy = test(model, \n",
    "                      tf.constant(test_data[0], dtype=tf.float32), \n",
    "                      tf.constant(test_data[1], dtype=tf.int64))\n",
    "\n",
    "print('test loss', loss.numpy(), '; accuracy', accuracy.numpy())"
   ]
  },
  {
   "cell_type": "code",
   "execution_count": null,
   "metadata": {},
   "outputs": [],
   "source": []
  }
 ],
 "metadata": {
  "kernelspec": {
   "display_name": "Python 3",
   "language": "python",
   "name": "python3"
  },
  "language_info": {
   "codemirror_mode": {
    "name": "ipython",
    "version": 3
   },
   "file_extension": ".py",
   "mimetype": "text/x-python",
   "name": "python",
   "nbconvert_exporter": "python",
   "pygments_lexer": "ipython3",
   "version": "3.8.0"
  }
 },
 "nbformat": 4,
 "nbformat_minor": 2
}
