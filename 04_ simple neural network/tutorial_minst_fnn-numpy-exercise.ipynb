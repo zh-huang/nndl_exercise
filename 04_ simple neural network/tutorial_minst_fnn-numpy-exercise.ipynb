{
 "cells": [
  {
   "cell_type": "markdown",
   "metadata": {},
   "source": [
    "## 准备数据"
   ]
  },
  {
   "cell_type": "code",
   "execution_count": 1,
   "metadata": {},
   "outputs": [],
   "source": [
    "import os\n",
    "import numpy as np\n",
    "import tensorflow as tf\n",
    "from tensorflow import keras\n",
    "from tensorflow.keras import layers, optimizers, datasets\n",
    "\n",
    "os.environ['TF_CPP_MIN_LOG_LEVEL'] = '2'  # or any {'0', '1', '2'}\n",
    "\n",
    "def mnist_dataset():\n",
    "    (x, y), (x_test, y_test) = datasets.mnist.load_data()\n",
    "    #normalize\n",
    "    x = x/255.0\n",
    "    x_test = x_test/255.0\n",
    "    \n",
    "    return (x, y), (x_test, y_test)"
   ]
  },
  {
   "cell_type": "markdown",
   "metadata": {},
   "source": [
    "## Demo numpy based auto differentiation"
   ]
  },
  {
   "cell_type": "code",
   "execution_count": 15,
   "metadata": {},
   "outputs": [],
   "source": [
    "import numpy as np\n",
    "\n",
    "class Matmul:\n",
    "    def __init__(self):\n",
    "        self.mem = {}\n",
    "        \n",
    "    def forward(self, x, W):\n",
    "        h = np.matmul(x, W)\n",
    "        self.mem={'x': x, 'W':W}\n",
    "        return h\n",
    "    \n",
    "    def backward(self, grad_y):\n",
    "        x = self.mem['x']\n",
    "        W = self.mem['W']\n",
    "        \n",
    "        grad_x = np.dot(grad_y, W.T)\n",
    "        grad_W = np.dot(x.T, grad_y)\n",
    "        \n",
    "        return grad_x, grad_W\n",
    "\n",
    "\n",
    "class Relu:\n",
    "    def __init__(self):\n",
    "        self.mem = {}\n",
    "        \n",
    "    def forward(self, x):\n",
    "        self.mem['x']=x\n",
    "        return np.where(x > 0, x, np.zeros_like(x))\n",
    "    \n",
    "    def backward(self, grad_y):\n",
    "        grad_y = np.where(self.mem['x'] > 0, grad_y, np.zeros_like(grad_y))\n",
    "        grad_x = grad_y\n",
    "        return grad_x\n",
    "    \n",
    "\n",
    "\n",
    "class Softmax:\n",
    "    def __init__(self):\n",
    "        self.epsilon = 1e-12\n",
    "        self.mem = {}\n",
    "        \n",
    "    def forward(self, x):\n",
    "        x_exp = np.exp(x)\n",
    "        partition = np.sum(x_exp, axis=1, keepdims=True)\n",
    "        out = x_exp/(partition+self.epsilon)\n",
    "        \n",
    "        self.mem['out'] = out\n",
    "        self.mem['x_exp'] = x_exp\n",
    "        return out\n",
    "    \n",
    "    def backward(self, grad_y):\n",
    "        s = self.mem['out']\n",
    "        sisj = np.matmul(np.expand_dims(s,axis=2), np.expand_dims(s, axis=1)) # (N, c, c)\n",
    "        g_y_exp = np.expand_dims(grad_y, axis=1)\n",
    "        tmp = np.matmul(g_y_exp, sisj) #(N, 1, c)\n",
    "        tmp = np.squeeze(tmp, axis=1)\n",
    "        tmp = -tmp+grad_y*s \n",
    "        return tmp\n",
    "    \n",
    "class Log:\n",
    "    def __init__(self):\n",
    "        self.epsilon = 1e-12\n",
    "        self.mem = {}\n",
    "        \n",
    "    def forward(self, x):\n",
    "        out = np.log(x+self.epsilon)\n",
    "        self.mem['x'] = x\n",
    "        return out\n",
    "    \n",
    "    def backward(self, grad_y):\n",
    "        x = self.mem['x']\n",
    "        \n",
    "        return 1./(x+1e-12) * grad_y\n",
    "    \n"
   ]
  },
  {
   "cell_type": "markdown",
   "metadata": {},
   "source": [
    "# Final Gradient Check"
   ]
  },
  {
   "cell_type": "code",
   "execution_count": 12,
   "metadata": {},
   "outputs": [
    {
     "name": "stdout",
     "output_type": "stream",
     "text": [
      "[[ 0.          6.01226766  0.          0.          0.          0.        ]\n",
      " [11.99272591  0.          0.          0.          0.          0.        ]\n",
      " [ 0.          0.          0.          3.15438893  0.          0.        ]\n",
      " [ 0.          0.          0.          0.          0.         14.09081649]\n",
      " [53.67410584  0.          0.          0.          0.          0.        ]]\n",
      "----------------------------------------\n",
      "[[ 0.          6.01226766  0.          0.          0.          0.        ]\n",
      " [11.99272591  0.          0.          0.          0.          0.        ]\n",
      " [ 0.          0.          0.          3.15438893  0.          0.        ]\n",
      " [ 0.          0.          0.          0.          0.         14.09081649]\n",
      " [53.67410584  0.          0.          0.          0.          0.        ]]\n"
     ]
    }
   ],
   "source": [
    "import tensorflow as tf\n",
    "\n",
    "label = np.zeros_like(x)\n",
    "label[0, 1]=1.\n",
    "label[1, 0]=1\n",
    "label[2, 3]=1\n",
    "label[3, 5]=1\n",
    "label[4, 0]=1\n",
    "\n",
    "x = np.random.normal(size=[5, 6])\n",
    "W1 = np.random.normal(size=[6, 5])\n",
    "W2 = np.random.normal(size=[5, 6])\n",
    "\n",
    "mul_h1 = Matmul()\n",
    "mul_h2 = Matmul()\n",
    "relu = Relu()\n",
    "softmax = Softmax()\n",
    "log = Log()\n",
    "\n",
    "h1 = mul_h1.forward(x, W1) # shape(5, 4)\n",
    "h1_relu = relu.forward(h1)\n",
    "h2 = mul_h2.forward(h1_relu, W2)\n",
    "h2_soft = softmax.forward(h2)\n",
    "h2_log = log.forward(h2_soft)\n",
    "\n",
    "\n",
    "h2_log_grad = log.backward(label)\n",
    "h2_soft_grad = softmax.backward(h2_log_grad)\n",
    "h2_grad, W2_grad = mul_h2.backward(h2_soft_grad)\n",
    "h1_relu_grad = relu.backward(h2_grad)\n",
    "h1_grad, W1_grad = mul_h1.backward(h1_relu_grad)\n",
    "\n",
    "print(h2_log_grad)\n",
    "print('--'*20)\n",
    "# print(W2_grad)\n",
    "\n",
    "with tf.GradientTape() as tape:\n",
    "    x, W1, W2, label = tf.constant(x), tf.constant(W1), tf.constant(W2), tf.constant(label)\n",
    "    tape.watch(W1)\n",
    "    tape.watch(W2)\n",
    "    h1 = tf.matmul(x, W1)\n",
    "    h1_relu = tf.nn.relu(h1)\n",
    "    h2 = tf.matmul(h1_relu, W2)\n",
    "    prob = tf.nn.softmax(h2)\n",
    "    log_prob = tf.math.log(prob)\n",
    "    loss = tf.reduce_sum(label * log_prob)\n",
    "    grads = tape.gradient(loss, [prob])\n",
    "    print (grads[0].numpy())"
   ]
  },
  {
   "cell_type": "markdown",
   "metadata": {},
   "source": [
    "## 建立模型"
   ]
  },
  {
   "cell_type": "code",
   "execution_count": 13,
   "metadata": {},
   "outputs": [],
   "source": [
    "class myModel:\n",
    "    def __init__(self):\n",
    "        \n",
    "        self.W1 = np.random.normal(size=[28*28+1, 100])\n",
    "        self.W2 = np.random.normal(size=[100, 10])\n",
    "        \n",
    "        self.mul_h1 = Matmul()\n",
    "        self.mul_h2 = Matmul()\n",
    "        self.relu = Relu()\n",
    "        self.softmax = Softmax()\n",
    "        self.log = Log()\n",
    "        \n",
    "        \n",
    "    def forward(self, x):\n",
    "        x = x.reshape(-1, 28*28)\n",
    "        bias = np.ones(shape=[x.shape[0], 1])\n",
    "        x = np.concatenate([x, bias], axis=1)\n",
    "        \n",
    "        self.h1 = self.mul_h1.forward(x, self.W1) # shape(5, 4)\n",
    "        self.h1_relu = self.relu.forward(self.h1)\n",
    "        self.h2 = self.mul_h2.forward(self.h1_relu, self.W2)\n",
    "        self.h2_soft = self.softmax.forward(self.h2)\n",
    "        self.h2_log = self.log.forward(self.h2_soft)\n",
    "            \n",
    "    def backward(self, label):\n",
    "        self.h2_log_grad = self.log.backward(-label)\n",
    "        self.h2_soft_grad = self.softmax.backward(self.h2_log_grad)\n",
    "        self.h2_grad, self.W2_grad = self.mul_h2.backward(self.h2_soft_grad)\n",
    "        self.h1_relu_grad = self.relu.backward(self.h2_grad)\n",
    "        self.h1_grad, self.W1_grad = self.mul_h1.backward(self.h1_relu_grad)\n",
    "        \n",
    "model = myModel()\n"
   ]
  },
  {
   "cell_type": "markdown",
   "metadata": {},
   "source": [
    "## 计算 loss"
   ]
  },
  {
   "cell_type": "code",
   "execution_count": 14,
   "metadata": {},
   "outputs": [],
   "source": [
    "def compute_loss(log_prob, labels):\n",
    "     return np.mean(np.sum(-log_prob*labels, axis=1))\n",
    "    \n",
    "\n",
    "def compute_accuracy(log_prob, labels):\n",
    "    predictions = np.argmax(log_prob, axis=1)\n",
    "    truth = np.argmax(labels, axis=1)\n",
    "    return np.mean(predictions==truth)\n",
    "\n",
    "def train_one_step(model, x, y):\n",
    "    model.forward(x)\n",
    "    model.backward(y)\n",
    "    model.W1 -= 1e-5* model.W1_grad\n",
    "    model.W2 -= 1e-5* model.W2_grad\n",
    "    loss = compute_loss(model.h2_log, y)\n",
    "    accuracy = compute_accuracy(model.h2_log, y)\n",
    "    return loss, accuracy\n",
    "\n",
    "def test(model, x, y):\n",
    "    model.forward(x)\n",
    "    loss = compute_loss(model.h2_log, y)\n",
    "    accuracy = compute_accuracy(model.h2_log, y)\n",
    "    return loss, accuracy"
   ]
  },
  {
   "cell_type": "markdown",
   "metadata": {},
   "source": [
    "## 实际训练"
   ]
  },
  {
   "cell_type": "code",
   "execution_count": 18,
   "metadata": {},
   "outputs": [
    {
     "name": "stdout",
     "output_type": "stream",
     "text": [
      "epoch 0 : loss 4.134336432782026 ; accuracy 0.8035166666666667\n",
      "epoch 1 : loss 4.0407316803185385 ; accuracy 0.8045833333333333\n",
      "epoch 2 : loss 3.90873071402988 ; accuracy 0.81265\n",
      "epoch 3 : loss 3.8369528163615536 ; accuracy 0.81345\n",
      "epoch 4 : loss 3.7436517614922864 ; accuracy 0.8194\n",
      "epoch 5 : loss 3.7017832746770933 ; accuracy 0.8191666666666667\n",
      "epoch 6 : loss 3.6193973579677987 ; accuracy 0.8240166666666666\n",
      "epoch 7 : loss 3.5928057976646772 ; accuracy 0.8237333333333333\n",
      "epoch 8 : loss 3.5214215442341823 ; accuracy 0.8273\n",
      "epoch 9 : loss 3.5009909748546537 ; accuracy 0.82755\n",
      "epoch 10 : loss 3.433789335604436 ; accuracy 0.831\n",
      "epoch 11 : loss 3.4172811542661017 ; accuracy 0.8308166666666666\n",
      "epoch 12 : loss 3.358621086534705 ; accuracy 0.83405\n",
      "epoch 13 : loss 3.335163016563896 ; accuracy 0.8337\n",
      "epoch 14 : loss 3.2877895134502 ; accuracy 0.8368\n",
      "epoch 15 : loss 3.2577226298104844 ; accuracy 0.8369\n",
      "epoch 16 : loss 3.2250418637025624 ; accuracy 0.8399166666666666\n",
      "epoch 17 : loss 3.191825636457227 ; accuracy 0.8392833333333334\n",
      "epoch 18 : loss 3.169713556424447 ; accuracy 0.84145\n",
      "epoch 19 : loss 3.1353963724457907 ; accuracy 0.8413833333333334\n",
      "epoch 20 : loss 3.119198653374617 ; accuracy 0.8429833333333333\n",
      "epoch 21 : loss 3.0846904852301713 ; accuracy 0.8431666666666666\n",
      "epoch 22 : loss 3.0717605263073424 ; accuracy 0.8443166666666667\n",
      "epoch 23 : loss 3.0368924468379754 ; accuracy 0.8449\n",
      "epoch 24 : loss 3.0240820693457855 ; accuracy 0.8461333333333333\n",
      "epoch 25 : loss 2.985711175719457 ; accuracy 0.84685\n",
      "epoch 26 : loss 2.969235016274657 ; accuracy 0.8480166666666666\n",
      "epoch 27 : loss 2.927094866722291 ; accuracy 0.8492166666666666\n",
      "epoch 28 : loss 2.9066307014714456 ; accuracy 0.8506166666666667\n",
      "epoch 29 : loss 2.8616781295881073 ; accuracy 0.8518833333333333\n",
      "epoch 30 : loss 2.8412234144751967 ; accuracy 0.85335\n",
      "epoch 31 : loss 2.7984127388724827 ; accuracy 0.8551333333333333\n",
      "epoch 32 : loss 2.779907050867235 ; accuracy 0.8558333333333333\n",
      "epoch 33 : loss 2.743794975854967 ; accuracy 0.8572666666666666\n",
      "epoch 34 : loss 2.724806433014617 ; accuracy 0.8585166666666667\n",
      "epoch 35 : loss 2.698026002464308 ; accuracy 0.8588\n",
      "epoch 36 : loss 2.6781738105395005 ; accuracy 0.86065\n",
      "epoch 37 : loss 2.663505525931676 ; accuracy 0.8597833333333333\n",
      "epoch 38 : loss 2.6471109069081167 ; accuracy 0.8618333333333333\n",
      "epoch 39 : loss 2.6397631633262546 ; accuracy 0.86045\n",
      "epoch 40 : loss 2.6262746510491115 ; accuracy 0.8625833333333334\n",
      "epoch 41 : loss 2.6238104544742598 ; accuracy 0.8616333333333334\n",
      "epoch 42 : loss 2.6055388953728102 ; accuracy 0.8632166666666666\n",
      "epoch 43 : loss 2.606389511869065 ; accuracy 0.8621666666666666\n",
      "epoch 44 : loss 2.5855287425744704 ; accuracy 0.8636833333333334\n",
      "epoch 45 : loss 2.584513396716858 ; accuracy 0.8628333333333333\n",
      "epoch 46 : loss 2.564616927263138 ; accuracy 0.8645333333333334\n",
      "epoch 47 : loss 2.5593110297910235 ; accuracy 0.864\n",
      "epoch 48 : loss 2.542455230263208 ; accuracy 0.86575\n",
      "epoch 49 : loss 2.5377899806495057 ; accuracy 0.8652333333333333\n",
      "test loss 2.494944524029017 ; accuracy 0.8698\n"
     ]
    }
   ],
   "source": [
    "train_data, test_data = mnist_dataset()\n",
    "train_label = np.zeros(shape=[train_data[0].shape[0], 10])\n",
    "test_label = np.zeros(shape=[test_data[0].shape[0], 10])\n",
    "train_label[np.arange(train_data[0].shape[0]), np.array(train_data[1])] = 1.\n",
    "test_label[np.arange(test_data[0].shape[0]), np.array(test_data[1])] = 1.\n",
    "\n",
    "for epoch in range(50):\n",
    "    loss, accuracy = train_one_step(model, train_data[0], train_label)\n",
    "    print('epoch', epoch, ': loss', loss, '; accuracy', accuracy)\n",
    "loss, accuracy = test(model, test_data[0], test_label)\n",
    "\n",
    "print('test loss', loss, '; accuracy', accuracy)"
   ]
  },
  {
   "cell_type": "code",
   "execution_count": 20,
   "metadata": {},
   "outputs": [
    {
     "data": {
      "text/plain": [
       "72.25600662800332"
      ]
     },
     "execution_count": 20,
     "metadata": {},
     "output_type": "execute_result"
    }
   ],
   "source": [
    "((217.6-34.2)*1500+1400*1880)*0.9/(51000*0.71)"
   ]
  },
  {
   "cell_type": "code",
   "execution_count": null,
   "metadata": {},
   "outputs": [],
   "source": []
  }
 ],
 "metadata": {
  "kernelspec": {
   "display_name": "Python 3",
   "language": "python",
   "name": "python3"
  },
  "language_info": {
   "codemirror_mode": {
    "name": "ipython",
    "version": 3
   },
   "file_extension": ".py",
   "mimetype": "text/x-python",
   "name": "python",
   "nbconvert_exporter": "python",
   "pygments_lexer": "ipython3",
   "version": "3.8.0"
  }
 },
 "nbformat": 4,
 "nbformat_minor": 2
}
